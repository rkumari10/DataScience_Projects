{
 "cells": [
  {
   "cell_type": "markdown",
   "metadata": {},
   "source": [
    "# Interesting Application of Two Factor Anova Ancova\n",
    "Testing The Effects of Price and Advertising"
   ]
  },
  {
   "cell_type": "markdown",
   "metadata": {},
   "source": [
    "Newfood\n",
    "Product Management opted to conduct a market test\n",
    "Experiment using a balanced two factor design with three levels\n",
    "of price(low, medium, high) and two levels of advertising (low\n",
    "and high). Each combination of price and advertising was used in\n",
    "four different stores resulting in a total of 24 observations. The\n",
    "data are given in paul newfood.csv. Perform anova ancova and\n",
    "interpret the results."
   ]
  },
  {
   "cell_type": "code",
   "execution_count": 1,
   "metadata": {},
   "outputs": [],
   "source": [
    "import numpy as np\n",
    "import pandas as pd\n",
    "import seaborn as sns\n",
    "from statsmodels.formula.api import ols      # For n-way ANOVA\n",
    "from statsmodels.stats.anova import _get_covariance,anova_lm # For n-way ANOVA\n",
    "%matplotlib inline"
   ]
  },
  {
   "cell_type": "code",
   "execution_count": 2,
   "metadata": {},
   "outputs": [],
   "source": [
    "DF = pd.read_csv('paul-newfood.csv')"
   ]
  },
  {
   "cell_type": "code",
   "execution_count": 3,
   "metadata": {},
   "outputs": [
    {
     "data": {
      "text/html": [
       "<div>\n",
       "<style scoped>\n",
       "    .dataframe tbody tr th:only-of-type {\n",
       "        vertical-align: middle;\n",
       "    }\n",
       "\n",
       "    .dataframe tbody tr th {\n",
       "        vertical-align: top;\n",
       "    }\n",
       "\n",
       "    .dataframe thead th {\n",
       "        text-align: right;\n",
       "    }\n",
       "</style>\n",
       "<table border=\"1\" class=\"dataframe\">\n",
       "  <thead>\n",
       "    <tr style=\"text-align: right;\">\n",
       "      <th></th>\n",
       "      <th>Sales</th>\n",
       "      <th>PriceLevel</th>\n",
       "      <th>AdLevel</th>\n",
       "      <th>StoreSize</th>\n",
       "    </tr>\n",
       "  </thead>\n",
       "  <tbody>\n",
       "    <tr>\n",
       "      <th>0</th>\n",
       "      <td>620</td>\n",
       "      <td>1</td>\n",
       "      <td>1</td>\n",
       "      <td>34</td>\n",
       "    </tr>\n",
       "    <tr>\n",
       "      <th>1</th>\n",
       "      <td>774</td>\n",
       "      <td>1</td>\n",
       "      <td>1</td>\n",
       "      <td>41</td>\n",
       "    </tr>\n",
       "    <tr>\n",
       "      <th>2</th>\n",
       "      <td>955</td>\n",
       "      <td>1</td>\n",
       "      <td>2</td>\n",
       "      <td>32</td>\n",
       "    </tr>\n",
       "    <tr>\n",
       "      <th>3</th>\n",
       "      <td>669</td>\n",
       "      <td>1</td>\n",
       "      <td>2</td>\n",
       "      <td>28</td>\n",
       "    </tr>\n",
       "    <tr>\n",
       "      <th>4</th>\n",
       "      <td>623</td>\n",
       "      <td>1</td>\n",
       "      <td>1</td>\n",
       "      <td>34</td>\n",
       "    </tr>\n",
       "  </tbody>\n",
       "</table>\n",
       "</div>"
      ],
      "text/plain": [
       "   Sales  PriceLevel  AdLevel  StoreSize\n",
       "0    620           1        1         34\n",
       "1    774           1        1         41\n",
       "2    955           1        2         32\n",
       "3    669           1        2         28\n",
       "4    623           1        1         34"
      ]
     },
     "execution_count": 3,
     "metadata": {},
     "output_type": "execute_result"
    }
   ],
   "source": [
    "DF.head()"
   ]
  },
  {
   "cell_type": "markdown",
   "metadata": {},
   "source": [
    "We will use Sales, PriceLevel, AdLevel for ANOVA, and for ANCoVA we will use Sales, PriceLevel, AdLevel and StoreSize as well"
   ]
  },
  {
   "cell_type": "code",
   "execution_count": 4,
   "metadata": {},
   "outputs": [
    {
     "data": {
      "text/html": [
       "<div>\n",
       "<style scoped>\n",
       "    .dataframe tbody tr th:only-of-type {\n",
       "        vertical-align: middle;\n",
       "    }\n",
       "\n",
       "    .dataframe tbody tr th {\n",
       "        vertical-align: top;\n",
       "    }\n",
       "\n",
       "    .dataframe thead th {\n",
       "        text-align: right;\n",
       "    }\n",
       "</style>\n",
       "<table border=\"1\" class=\"dataframe\">\n",
       "  <thead>\n",
       "    <tr style=\"text-align: right;\">\n",
       "      <th></th>\n",
       "      <th>Sales</th>\n",
       "      <th>PriceLevel</th>\n",
       "      <th>AdLevel</th>\n",
       "      <th>StoreSize</th>\n",
       "    </tr>\n",
       "  </thead>\n",
       "  <tbody>\n",
       "    <tr>\n",
       "      <th>count</th>\n",
       "      <td>24.000000</td>\n",
       "      <td>24.000000</td>\n",
       "      <td>24.000000</td>\n",
       "      <td>24.000000</td>\n",
       "    </tr>\n",
       "    <tr>\n",
       "      <th>mean</th>\n",
       "      <td>571.416667</td>\n",
       "      <td>2.000000</td>\n",
       "      <td>1.500000</td>\n",
       "      <td>32.333333</td>\n",
       "    </tr>\n",
       "    <tr>\n",
       "      <th>std</th>\n",
       "      <td>212.629279</td>\n",
       "      <td>0.834058</td>\n",
       "      <td>0.510754</td>\n",
       "      <td>6.424590</td>\n",
       "    </tr>\n",
       "    <tr>\n",
       "      <th>min</th>\n",
       "      <td>294.000000</td>\n",
       "      <td>1.000000</td>\n",
       "      <td>1.000000</td>\n",
       "      <td>19.000000</td>\n",
       "    </tr>\n",
       "    <tr>\n",
       "      <th>25%</th>\n",
       "      <td>393.250000</td>\n",
       "      <td>1.000000</td>\n",
       "      <td>1.000000</td>\n",
       "      <td>28.750000</td>\n",
       "    </tr>\n",
       "    <tr>\n",
       "      <th>50%</th>\n",
       "      <td>550.000000</td>\n",
       "      <td>2.000000</td>\n",
       "      <td>1.500000</td>\n",
       "      <td>32.000000</td>\n",
       "    </tr>\n",
       "    <tr>\n",
       "      <th>75%</th>\n",
       "      <td>677.000000</td>\n",
       "      <td>3.000000</td>\n",
       "      <td>2.000000</td>\n",
       "      <td>37.000000</td>\n",
       "    </tr>\n",
       "    <tr>\n",
       "      <th>max</th>\n",
       "      <td>1208.000000</td>\n",
       "      <td>3.000000</td>\n",
       "      <td>2.000000</td>\n",
       "      <td>43.000000</td>\n",
       "    </tr>\n",
       "  </tbody>\n",
       "</table>\n",
       "</div>"
      ],
      "text/plain": [
       "             Sales  PriceLevel    AdLevel  StoreSize\n",
       "count    24.000000   24.000000  24.000000  24.000000\n",
       "mean    571.416667    2.000000   1.500000  32.333333\n",
       "std     212.629279    0.834058   0.510754   6.424590\n",
       "min     294.000000    1.000000   1.000000  19.000000\n",
       "25%     393.250000    1.000000   1.000000  28.750000\n",
       "50%     550.000000    2.000000   1.500000  32.000000\n",
       "75%     677.000000    3.000000   2.000000  37.000000\n",
       "max    1208.000000    3.000000   2.000000  43.000000"
      ]
     },
     "execution_count": 4,
     "metadata": {},
     "output_type": "execute_result"
    }
   ],
   "source": [
    "DF.describe()"
   ]
  },
  {
   "cell_type": "code",
   "execution_count": 5,
   "metadata": {},
   "outputs": [
    {
     "name": "stdout",
     "output_type": "stream",
     "text": [
      "<class 'pandas.core.frame.DataFrame'>\n",
      "RangeIndex: 24 entries, 0 to 23\n",
      "Data columns (total 4 columns):\n",
      " #   Column      Non-Null Count  Dtype\n",
      "---  ------      --------------  -----\n",
      " 0   Sales       24 non-null     int64\n",
      " 1   PriceLevel  24 non-null     int64\n",
      " 2   AdLevel     24 non-null     int64\n",
      " 3   StoreSize   24 non-null     int64\n",
      "dtypes: int64(4)\n",
      "memory usage: 896.0 bytes\n"
     ]
    }
   ],
   "source": [
    "DF.info()"
   ]
  },
  {
   "cell_type": "code",
   "execution_count": 6,
   "metadata": {},
   "outputs": [],
   "source": [
    "DF.PriceLevel = pd.Categorical(DF.PriceLevel)"
   ]
  },
  {
   "cell_type": "code",
   "execution_count": 7,
   "metadata": {},
   "outputs": [
    {
     "data": {
      "text/plain": [
       "<bound method IndexOpsMixin.value_counts of 0     1\n",
       "1     1\n",
       "2     1\n",
       "3     1\n",
       "4     1\n",
       "5     1\n",
       "6     1\n",
       "7     1\n",
       "8     2\n",
       "9     2\n",
       "10    2\n",
       "11    2\n",
       "12    2\n",
       "13    2\n",
       "14    2\n",
       "15    2\n",
       "16    3\n",
       "17    3\n",
       "18    3\n",
       "19    3\n",
       "20    3\n",
       "21    3\n",
       "22    3\n",
       "23    3\n",
       "Name: PriceLevel, dtype: category\n",
       "Categories (3, int64): [1, 2, 3]>"
      ]
     },
     "execution_count": 7,
     "metadata": {},
     "output_type": "execute_result"
    }
   ],
   "source": [
    "DF.PriceLevel.value_counts"
   ]
  },
  {
   "cell_type": "code",
   "execution_count": 8,
   "metadata": {},
   "outputs": [],
   "source": [
    "DF.AdLevel = pd.Categorical(DF.AdLevel)"
   ]
  },
  {
   "cell_type": "code",
   "execution_count": 9,
   "metadata": {},
   "outputs": [
    {
     "data": {
      "text/plain": [
       "<bound method IndexOpsMixin.value_counts of 0     1\n",
       "1     1\n",
       "2     2\n",
       "3     2\n",
       "4     1\n",
       "5     1\n",
       "6     2\n",
       "7     2\n",
       "8     1\n",
       "9     1\n",
       "10    2\n",
       "11    2\n",
       "12    1\n",
       "13    1\n",
       "14    2\n",
       "15    2\n",
       "16    1\n",
       "17    1\n",
       "18    2\n",
       "19    2\n",
       "20    1\n",
       "21    1\n",
       "22    2\n",
       "23    2\n",
       "Name: AdLevel, dtype: category\n",
       "Categories (2, int64): [1, 2]>"
      ]
     },
     "execution_count": 9,
     "metadata": {},
     "output_type": "execute_result"
    }
   ],
   "source": [
    "DF.AdLevel.value_counts"
   ]
  },
  {
   "cell_type": "code",
   "execution_count": 10,
   "metadata": {},
   "outputs": [
    {
     "name": "stdout",
     "output_type": "stream",
     "text": [
      "                 df         sum_sq        mean_sq          F    PR(>F)\n",
      "C(PriceLevel)   2.0  600412.583333  300206.291667  13.663982  0.000182\n",
      "C(AdLevel)      1.0      32.666667      32.666667   0.001487  0.969624\n",
      "Residual       20.0  439412.583333   21970.629167        NaN       NaN\n"
     ]
    }
   ],
   "source": [
    "formula = 'Sales ~ C(PriceLevel) + C(AdLevel)' #a simple 2 way ANOVA where Sales if a function of PriceLevel + AdLevel, C stands for categorical\n",
    "model = ols(formula, DF).fit() #building model using ols (ordinary least squares is a regression technique) function for dataset DF and fitting the same on it\n",
    "aov_table = anova_lm(model) #creating ANOVA table, passing model to anova_lm function\n",
    "#print(model.summary())\n",
    "print(aov_table)"
   ]
  },
  {
   "cell_type": "markdown",
   "metadata": {},
   "source": [
    "degrees of freedom=n-1, residual is total variation, mean_sq= sum_sq/df, computing F statistics is ratio of mean_sq b/w groups to mean_sq within groups i.e mean_sq/residual"
   ]
  },
  {
   "cell_type": "code",
   "execution_count": 15,
   "metadata": {},
   "outputs": [
    {
     "data": {
      "text/plain": [
       "<matplotlib.axes._subplots.AxesSubplot at 0x2332aa7c608>"
      ]
     },
     "execution_count": 15,
     "metadata": {},
     "output_type": "execute_result"
    },
    {
     "data": {
      "image/png": "[encoded data removed]",
      "text/plain": [
       "<Figure size 432x288 with 1 Axes>"
      ]
     },
     "metadata": {
      "needs_background": "light"
     },
     "output_type": "display_data"
    }
   ],
   "source": [
    "sns.boxplot(x='PriceLevel', y='Sales', data=DF, hue='AdLevel')"
   ]
  },
  {
   "cell_type": "markdown",
   "metadata": {},
   "source": [
    "The graph clearly indicates that higher advertising level has a good impact on sales of a low priced product, however as the price increases the higher advertisement is not impacting the sales in a good way."
   ]
  },
  {
   "cell_type": "code",
   "execution_count": 11,
   "metadata": {},
   "outputs": [
    {
     "data": {
      "text/plain": [
       "<matplotlib.axes._subplots.AxesSubplot at 0x2332a8ec208>"
      ]
     },
     "execution_count": 11,
     "metadata": {},
     "output_type": "execute_result"
    },
    {
     "data": {
      "image/png": "[encoded data removed]",
      "text/plain": [
       "<Figure size 432x288 with 1 Axes>"
      ]
     },
     "metadata": {
      "needs_background": "light"
     },
     "output_type": "display_data"
    }
   ],
   "source": [
    "sns.pointplot(x='PriceLevel', y='Sales', data=DF, hue='AdLevel')"
   ]
  },
  {
   "cell_type": "code",
   "execution_count": 18,
   "metadata": {},
   "outputs": [
    {
     "data": {
      "text/plain": [
       "<matplotlib.axes._subplots.AxesSubplot at 0x2332adc3f48>"
      ]
     },
     "execution_count": 18,
     "metadata": {},
     "output_type": "execute_result"
    },
    {
     "data": {
      "image/png": "[encoded data removed]",
      "text/plain": [
       "<Figure size 432x288 with 1 Axes>"
      ]
     },
     "metadata": {
      "needs_background": "light"
     },
     "output_type": "display_data"
    }
   ],
   "source": [
    "sns.boxplot(x='AdLevel', y='Sales', data=DF, hue='PriceLevel')"
   ]
  },
  {
   "cell_type": "code",
   "execution_count": 12,
   "metadata": {},
   "outputs": [
    {
     "data": {
      "text/plain": [
       "<matplotlib.axes._subplots.AxesSubplot at 0x2332aa09188>"
      ]
     },
     "execution_count": 12,
     "metadata": {},
     "output_type": "execute_result"
    },
    {
     "data": {
      "image/png": "[encoded data removed]",
      "text/plain": [
       "<Figure size 432x288 with 1 Axes>"
      ]
     },
     "metadata": {
      "needs_background": "light"
     },
     "output_type": "display_data"
    }
   ],
   "source": [
    "sns.pointplot(x='PriceLevel', y='Sales', data=DF, hue='AdLevel', ci=None)"
   ]
  },
  {
   "cell_type": "code",
   "execution_count": 13,
   "metadata": {},
   "outputs": [
    {
     "name": "stdout",
     "output_type": "stream",
     "text": [
      "                            df         sum_sq        mean_sq          F  \\\n",
      "C(PriceLevel)              2.0  600412.583333  300206.291667  14.781913   \n",
      "C(AdLevel)                 1.0      32.666667      32.666667   0.001608   \n",
      "C(PriceLevel):C(AdLevel)   2.0   73850.083333   36925.041667   1.818159   \n",
      "Residual                  18.0  365562.500000   20309.027778        NaN   \n",
      "\n",
      "                            PR(>F)  \n",
      "C(PriceLevel)             0.000159  \n",
      "C(AdLevel)                0.968450  \n",
      "C(PriceLevel):C(AdLevel)  0.190898  \n",
      "Residual                       NaN  \n"
     ]
    }
   ],
   "source": [
    "formula = 'Sales ~ C(PriceLevel) + C(AdLevel) + C(PriceLevel):C(AdLevel)'\n",
    "model = ols(formula, DF).fit()\n",
    "aov_table = anova_lm(model)\n",
    "print(aov_table)"
   ]
  },
  {
   "cell_type": "code",
   "execution_count": 14,
   "metadata": {},
   "outputs": [
    {
     "name": "stdout",
     "output_type": "stream",
     "text": [
      "                            df         sum_sq        mean_sq          F  \\\n",
      "C(PriceLevel)              2.0  600412.583333  300206.291667  29.483426   \n",
      "C(AdLevel)                 1.0      32.666667      32.666667   0.003208   \n",
      "C(PriceLevel):C(AdLevel)   2.0   73850.083333   36925.041667   3.626429   \n",
      "StoreSize                  1.0  192465.010526  192465.010526  18.902095   \n",
      "Residual                  17.0  173097.489474   10182.205263        NaN   \n",
      "\n",
      "                            PR(>F)  \n",
      "C(PriceLevel)             0.000003  \n",
      "C(AdLevel)                0.955492  \n",
      "C(PriceLevel):C(AdLevel)  0.048790  \n",
      "StoreSize                 0.000438  \n",
      "Residual                       NaN  \n"
     ]
    }
   ],
   "source": [
    "formula = 'Sales ~ C(PriceLevel) + C(AdLevel) + StoreSize + C(PriceLevel):C(AdLevel)'\n",
    "model = ols(formula, DF).fit()\n",
    "aov_table = anova_lm(model,type=2)\n",
    "print(aov_table)"
   ]
  }
 ],
 "metadata": {
  "kernelspec": {
   "display_name": "Python 3",
   "language": "python",
   "name": "python3"
  },
  "language_info": {
   "codemirror_mode": {
    "name": "ipython",
    "version": 3
   },
   "file_extension": ".py",
   "mimetype": "text/x-python",
   "name": "python",
   "nbconvert_exporter": "python",
   "pygments_lexer": "ipython3",
   "version": "3.7.6"
  }
 },
 "nbformat": 4,
 "nbformat_minor": 2
}
