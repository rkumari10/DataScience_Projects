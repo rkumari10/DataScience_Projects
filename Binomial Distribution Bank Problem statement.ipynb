{
 "cells": [
  {
   "cell_type": "markdown",
   "metadata": {},
   "source": [
    "Problem Statement - Binomial Distribution\n",
    "Bank issues credit cards to customers under the scheme of master card. Based on the past data, the bank has found out that 60% of all accounts pay on time following the bill. If a sample of 7 accounts is selected at random from the current database, construct the binomial probability distribution of accounts paying on time.\n",
    "\n",
    "Work Out Using Python"
   ]
  },
  {
   "cell_type": "code",
   "execution_count": 1,
   "metadata": {},
   "outputs": [],
   "source": [
    "import numpy as np\n",
    "import scipy.stats as stats\n",
    "import matplotlib.pyplot as plt\n",
    "from scipy.stats import binom"
   ]
  },
  {
   "cell_type": "code",
   "execution_count": 2,
   "metadata": {},
   "outputs": [],
   "source": [
    "#p is the probability of success, which is same throughout the n trials\n",
    "p=0.6"
   ]
  },
  {
   "cell_type": "code",
   "execution_count": 3,
   "metadata": {},
   "outputs": [],
   "source": [
    "n=7"
   ]
  },
  {
   "cell_type": "code",
   "execution_count": 4,
   "metadata": {},
   "outputs": [],
   "source": [
    "# defining the list of r values\n",
    "r_values = list(range(n + 1))"
   ]
  },
  {
   "cell_type": "markdown",
   "metadata": {},
   "source": [
    "The stats() function of the scipy.stats.binom module can be used to calculate a binomial distribution using the values of n and p. It returns a tuple containing the mean and variance of the distribution in that order."
   ]
  },
  {
   "cell_type": "code",
   "execution_count": 5,
   "metadata": {},
   "outputs": [
    {
     "name": "stdout",
     "output_type": "stream",
     "text": [
      "4.2\n",
      "1.6800000000000002\n"
     ]
    }
   ],
   "source": [
    "# obtaining the mean and variance\n",
    "mean, var = binom.stats(n, p)\n",
    "\n",
    "print(mean)\n",
    "print(var)"
   ]
  },
  {
   "cell_type": "code",
   "execution_count": 6,
   "metadata": {},
   "outputs": [
    {
     "name": "stdout",
     "output_type": "stream",
     "text": [
      "4.2\n",
      "1.6800000000000002\n"
     ]
    }
   ],
   "source": [
    "print(binom.mean(n,p))\n",
    "print(binom.var(n,p))"
   ]
  },
  {
   "cell_type": "markdown",
   "metadata": {},
   "source": [
    "A probability mass function (PMF) is a function that gives the probability that a discrete random variable is exactly equal to some value\n",
    "\n",
    "scipy.stats.binom.pmf() function is used to obtain the probability mass function for a certain value of r, n and p. We can obtain the distribution by passing all possible values of r(0 to n). Syntax : scipy.stats.binom.pmf(r, n, p)"
   ]
  },
  {
   "cell_type": "code",
   "execution_count": 7,
   "metadata": {},
   "outputs": [],
   "source": [
    "# list of pmf values\n",
    "dist = [binom.pmf(r, n, p) for r in r_values ]"
   ]
  },
  {
   "cell_type": "code",
   "execution_count": 8,
   "metadata": {},
   "outputs": [
    {
     "name": "stdout",
     "output_type": "stream",
     "text": [
      "r\tp(r)\n",
      "0\t0.001638400000000001\n",
      "1\t0.017203200000000016\n",
      "2\t0.07741440000000008\n",
      "3\t0.19353600000000004\n",
      "4\t0.2903040000000001\n",
      "5\t0.26127360000000016\n",
      "6\t0.1306368\n",
      "7\t0.027993599999999987\n",
      "mean = 4.2\n",
      "variance = 1.6800000000000002\n"
     ]
    }
   ],
   "source": [
    "# printing the table\n",
    "print(\"r\\tp(r)\")\n",
    "for i in range(n + 1):\n",
    "    print(str(r_values[i]) + \"\\t\" + str(dist[i]))\n",
    "# printing mean and variance\n",
    "print(\"mean = \"+str(mean))\n",
    "print(\"variance = \"+str(var))"
   ]
  },
  {
   "cell_type": "code",
   "execution_count": 9,
   "metadata": {},
   "outputs": [
    {
     "name": "stdout",
     "output_type": "stream",
     "text": [
      "mean = 4.2\n",
      "variance = 1.6800000000000002\n"
     ]
    }
   ],
   "source": [
    "# printing mean and variance\n",
    "print(\"mean = \"+str(mean))\n",
    "print(\"variance = \"+str(var))"
   ]
  },
  {
   "cell_type": "markdown",
   "metadata": {},
   "source": [
    "Plotting the graph using matplotlib.pyplot.bar() function to plot vertical bars showing the binomial probability distribution of number of accounts paying on time."
   ]
  },
  {
   "cell_type": "code",
   "execution_count": 10,
   "metadata": {},
   "outputs": [
    {
     "data": {
      "image/png": "[encoded data removed]",
      "text/plain": [
       "<Figure size 432x288 with 1 Axes>"
      ]
     },
     "metadata": {
      "needs_background": "light"
     },
     "output_type": "display_data"
    }
   ],
   "source": [
    "from scipy.stats import binom\n",
    "import matplotlib.pyplot as plt\n",
    "# plotting the graph \n",
    "plt.bar(r_values, dist)\n",
    "plt.xlabel('Number of customers')\n",
    "plt.ylabel('Prob of paying on time')\n",
    "plt.show()"
   ]
  },
  {
   "cell_type": "code",
   "execution_count": 11,
   "metadata": {},
   "outputs": [
    {
     "name": "stdout",
     "output_type": "stream",
     "text": [
      "1.2961481396815722\n"
     ]
    }
   ],
   "source": [
    "#Calculating Standard Deviation\n",
    "print(binom.std(n,p))"
   ]
  },
  {
   "cell_type": "markdown",
   "metadata": {},
   "source": [
    "standard deviation tells us how much the results are likely to vary from the mean of the binomial probability distribution. In this case, actual can be in a range of [4.2 (which is mean) -1.29] to  [4.2 (which is mean) +1.29] "
   ]
  }
 ],
 "metadata": {
  "kernelspec": {
   "display_name": "Python 3",
   "language": "python",
   "name": "python3"
  },
  "language_info": {
   "codemirror_mode": {
    "name": "ipython",
    "version": 3
   },
   "file_extension": ".py",
   "mimetype": "text/x-python",
   "name": "python",
   "nbconvert_exporter": "python",
   "pygments_lexer": "ipython3",
   "version": "3.7.6"
  }
 },
 "nbformat": 4,
 "nbformat_minor": 4
}
